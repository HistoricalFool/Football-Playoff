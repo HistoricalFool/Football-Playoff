{
 "cells": [
  {
   "cell_type": "markdown",
   "id": "fff9d06d-bcfb-4dc5-8898-029502ca87cf",
   "metadata": {},
   "source": [
    "This will serve as the scraper for the Austrian Bundesliga. Below, the environment will be set"
   ]
  },
  {
   "cell_type": "code",
   "execution_count": 4,
   "id": "fa33b781-11b9-49ff-a087-57fa6067643e",
   "metadata": {},
   "outputs": [],
   "source": [
    "import numpy as np\n",
    "import pandas as pd\n",
    "from selenium import webdriver\n",
    "from selenium.webdriver.common.by import By\n",
    "\n",
    "driver = webdriver.Firefox()\n",
    "\n",
    "\n",
    "smaller = []\n",
    "Country = [\"aut-bundesliga\"]\n",
    "Year = np.arange(2018, 2023)"
   ]
  },
  {
   "cell_type": "markdown",
   "id": "1cfdad59-71af-401c-8882-36690634277e",
   "metadata": {},
   "source": [
    "For overall attendance, 2018-2024"
   ]
  },
  {
   "cell_type": "code",
   "execution_count": 5,
   "id": "61cec614-5b86-4aa8-8ca3-bfddb6104ed1",
   "metadata": {},
   "outputs": [
    {
     "name": "stdout",
     "output_type": "stream",
     "text": [
      "193.018\n",
      "123.809\n",
      "111.642\n",
      "97.445\n",
      "56.368\n",
      "47.338\n",
      "43.865\n",
      "40.503\n",
      "40.084\n",
      "36.727\n",
      "32.462\n",
      "29.047\n",
      "205.336\n",
      "122.685\n",
      "114.017\n",
      "84.558\n",
      "60.300\n",
      "44.395\n",
      "43.178\n",
      "37.005\n",
      "36.277\n",
      "30.449\n",
      "29.333\n",
      "26.653\n",
      "15.823\n",
      "10.419\n",
      "9.333\n",
      "7.500\n",
      "7.458\n",
      "6.872\n",
      "5.435\n",
      "3.909\n",
      "3.700\n",
      "3.330\n",
      "2.665\n",
      "2.247\n",
      "131.065\n",
      "105.010\n",
      "104.502\n",
      "73.043\n",
      "45.371\n",
      "43.327\n",
      "39.886\n",
      "32.703\n",
      "30.966\n",
      "23.634\n",
      "21.866\n",
      "15.475\n",
      "203.220\n",
      "137.118\n",
      "124.514\n",
      "122.330\n",
      "73.669\n",
      "54.885\n",
      "51.671\n",
      "45.933\n",
      "44.295\n",
      "34.678\n",
      "28.502\n",
      "27.906\n"
     ]
    }
   ],
   "source": [
    "for C in Country:\n",
    "    for y in Year:\n",
    "        driver.get(\"https://www.worldfootball.net/attendance/aut-bundesliga-\"+str(y)+\"-\"+str(y+1)+\"/1/\")\n",
    "        \n",
    "        Rank = driver.find_elements(By.CSS_SELECTOR,\"#site > div.white > div.content > div.portfolio > div.box > div > table > tbody > tr > td:nth-child(1)\")\n",
    "        Club = driver.find_elements(By.CSS_SELECTOR,\"#site > div.white > div.content > div.portfolio > div.box > div > table > tbody > tr > td:nth-child(3)\")\n",
    "        Total = driver.find_elements(By.CSS_SELECTOR,\"#site > div.white > div.content > div.portfolio > div.box > div > table > tbody > tr > td:nth-child(4)\")\n",
    "        Matches = driver.find_elements(By.CSS_SELECTOR,\"#site > div.white > div.content > div.portfolio > div.box > div > table > tbody > tr > td:nth-child(5)\")\n",
    "        Average = driver.find_elements(By.CSS_SELECTOR,\"#site > div.white > div.content > div.portfolio > div.box > div > table > tbody > tr > td:nth-child(6)\")\n",
    "        Year = driver.find_elements(By.XPATH,\"/html/body/div[3]/div[2]/div[2]/div[3]/h1\")\n",
    "        for i in range(len(Rank)):\n",
    "            \n",
    "            print(Total[i].text)\n",
    "            temporary_data={'Rank': Rank[i].text,\n",
    "                            'Club': Club[i].text,\n",
    "                            'Total': Total[i].text,\n",
    "                            'Matches': Matches[i].text,\n",
    "                            'Average': Average[i].text,\n",
    "                            'Year': y}\n",
    "            smaller.append(temporary_data)\n",
    "        df_data=pd.DataFrame(smaller)\n",
    "        df_data.to_csv('aut-att-rs.csv', index=False)"
   ]
  },
  {
   "cell_type": "markdown",
   "id": "b987e0ee-d01f-44c2-852c-1fcd68c2df32",
   "metadata": {},
   "source": [
    "Now, for playoff attendance"
   ]
  },
  {
   "cell_type": "code",
   "execution_count": 6,
   "id": "5ee20e57-3144-4e90-9b04-5864c0aadc0c",
   "metadata": {},
   "outputs": [],
   "source": [
    "for C in Country:\n",
    "    for y in Year:\n",
    "        driver.get(\"https://www.worldfootball.net/attendance/aut-bundesliga-\"+str(y)+\"-\"+str(y+1)+\"-meistergruppe/1/\")\n",
    "        \n",
    "        Rank = driver.find_elements(By.CSS_SELECTOR,\"#site > div.white > div.content > div.portfolio > div.box > div > table > tbody > tr > td:nth-child(1)\")\n",
    "        Club = driver.find_elements(By.CSS_SELECTOR,\"#site > div.white > div.content > div.portfolio > div.box > div > table > tbody > tr > td:nth-child(3)\")\n",
    "        Total = driver.find_elements(By.CSS_SELECTOR,\"#site > div.white > div.content > div.portfolio > div.box > div > table > tbody > tr > td:nth-child(4)\")\n",
    "        Matches = driver.find_elements(By.CSS_SELECTOR,\"#site > div.white > div.content > div.portfolio > div.box > div > table > tbody > tr > td:nth-child(5)\")\n",
    "        Average = driver.find_elements(By.CSS_SELECTOR,\"#site > div.white > div.content > div.portfolio > div.box > div > table > tbody > tr > td:nth-child(6)\")\n",
    "        Year = driver.find_elements(By.XPATH,\"/html/body/div[3]/div[2]/div[2]/div[3]/h1\")\n",
    "        for i in range(len(Rank)):\n",
    "            \n",
    "            print(Total[i].text)\n",
    "            temporary_data={'Rank': Rank[i].text,\n",
    "                            'Club': Club[i].text,\n",
    "                            'Total': Total[i].text,\n",
    "                            'Matches': Matches[i].text,\n",
    "                            'Average': Average[i].text,\n",
    "                            'Year': y}\n",
    "            smaller.append(temporary_data)\n",
    "        df_data=pd.DataFrame(smaller)\n",
    "        df_data.to_csv('aut-po-att.csv', index=False)"
   ]
  }
 ],
 "metadata": {
  "kernelspec": {
   "display_name": "Python 3 (ipykernel)",
   "language": "python",
   "name": "python3"
  },
  "language_info": {
   "codemirror_mode": {
    "name": "ipython",
    "version": 3
   },
   "file_extension": ".py",
   "mimetype": "text/x-python",
   "name": "python",
   "nbconvert_exporter": "python",
   "pygments_lexer": "ipython3",
   "version": "3.13.1"
  }
 },
 "nbformat": 4,
 "nbformat_minor": 5
}
